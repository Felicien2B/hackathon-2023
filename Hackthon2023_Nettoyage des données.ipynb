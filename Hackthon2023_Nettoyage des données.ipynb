{
 "cells": [
  {
   "cell_type": "code",
   "execution_count": 1,
   "id": "80bfec97",
   "metadata": {},
   "outputs": [],
   "source": [
    "import pandas as pd\n",
    "import numpy as np\n",
    "import string\n",
    "from sklearn.feature_extraction.text import CountVectorizer # pour construire le vocabualaire de la dataframe\n",
    "import nltk # pour le traitement sur le text\n",
    "from nltk.tokenize import word_tokenize # diviser les données en mots\n",
    "from nltk.corpus import stopwords # eliminer \"and, or ...\" \n",
    "import matplotlib.pyplot as plt # pour la représentation graphique\n",
    "from tqdm import tqdm \n",
    "from nltk.stem import WordNetLemmatizer\n",
    "from ast import literal_eval\n",
    "pd.options.mode.chained_assignment = None  # default='warn'\n",
    "from collections import defaultdict"
   ]
  },
  {
   "cell_type": "code",
   "execution_count": 6,
   "id": "529951fe",
   "metadata": {},
   "outputs": [
    {
     "data": {
      "text/html": [
       "<div>\n",
       "<style scoped>\n",
       "    .dataframe tbody tr th:only-of-type {\n",
       "        vertical-align: middle;\n",
       "    }\n",
       "\n",
       "    .dataframe tbody tr th {\n",
       "        vertical-align: top;\n",
       "    }\n",
       "\n",
       "    .dataframe thead th {\n",
       "        text-align: right;\n",
       "    }\n",
       "</style>\n",
       "<table border=\"1\" class=\"dataframe\">\n",
       "  <thead>\n",
       "    <tr style=\"text-align: right;\">\n",
       "      <th></th>\n",
       "      <th>Y1</th>\n",
       "      <th>Y2</th>\n",
       "      <th>Y</th>\n",
       "      <th>Domain</th>\n",
       "      <th>area</th>\n",
       "      <th>keywords</th>\n",
       "      <th>Abstract</th>\n",
       "    </tr>\n",
       "  </thead>\n",
       "  <tbody>\n",
       "    <tr>\n",
       "      <th>0</th>\n",
       "      <td>0</td>\n",
       "      <td>12</td>\n",
       "      <td>12</td>\n",
       "      <td>CS</td>\n",
       "      <td>Symbolic computation</td>\n",
       "      <td>(2+1)-dimensional non-linear optical waves; e...</td>\n",
       "      <td>(2 + 1)-dimensional non-linear optical waves t...</td>\n",
       "    </tr>\n",
       "    <tr>\n",
       "      <th>1</th>\n",
       "      <td>0</td>\n",
       "      <td>0</td>\n",
       "      <td>0</td>\n",
       "      <td>CS</td>\n",
       "      <td>Computer vision</td>\n",
       "      <td>Tea category identification; computer vision;...</td>\n",
       "      <td>(Objective) In order to increase classificatio...</td>\n",
       "    </tr>\n",
       "    <tr>\n",
       "      <th>2</th>\n",
       "      <td>0</td>\n",
       "      <td>5</td>\n",
       "      <td>5</td>\n",
       "      <td>CS</td>\n",
       "      <td>Computer graphics</td>\n",
       "      <td>3D images; Virtual reality; Smoothness</td>\n",
       "      <td>[Purpose] This study verified that the smoothn...</td>\n",
       "    </tr>\n",
       "    <tr>\n",
       "      <th>3</th>\n",
       "      <td>0</td>\n",
       "      <td>4</td>\n",
       "      <td>4</td>\n",
       "      <td>CS</td>\n",
       "      <td>Operating systems</td>\n",
       "      <td>biodiversity surveys; camera trapping; data m...</td>\n",
       "      <td>1. Camera trapping is a widely applied method ...</td>\n",
       "    </tr>\n",
       "    <tr>\n",
       "      <th>4</th>\n",
       "      <td>0</td>\n",
       "      <td>1</td>\n",
       "      <td>1</td>\n",
       "      <td>CS</td>\n",
       "      <td>Machine learning</td>\n",
       "      <td>distribution; endangered species; groundwater...</td>\n",
       "      <td>1. Species distribution modelling can be usefu...</td>\n",
       "    </tr>\n",
       "    <tr>\n",
       "      <th>...</th>\n",
       "      <td>...</td>\n",
       "      <td>...</td>\n",
       "      <td>...</td>\n",
       "      <td>...</td>\n",
       "      <td>...</td>\n",
       "      <td>...</td>\n",
       "      <td>...</td>\n",
       "    </tr>\n",
       "    <tr>\n",
       "      <th>6509</th>\n",
       "      <td>0</td>\n",
       "      <td>3</td>\n",
       "      <td>3</td>\n",
       "      <td>CS</td>\n",
       "      <td>Cryptography</td>\n",
       "      <td>Zero-difference balanced (ZDB) function; gene...</td>\n",
       "      <td>Zero-difference balanced (ZDB) functions have ...</td>\n",
       "    </tr>\n",
       "    <tr>\n",
       "      <th>6510</th>\n",
       "      <td>0</td>\n",
       "      <td>15</td>\n",
       "      <td>15</td>\n",
       "      <td>CS</td>\n",
       "      <td>Data structures</td>\n",
       "      <td>Data structures for logic synthesis; error re...</td>\n",
       "      <td>Zero-Suppressed Binary Decision Diagrams (ZDDs...</td>\n",
       "    </tr>\n",
       "    <tr>\n",
       "      <th>6511</th>\n",
       "      <td>0</td>\n",
       "      <td>15</td>\n",
       "      <td>15</td>\n",
       "      <td>CS</td>\n",
       "      <td>Data structures</td>\n",
       "      <td>Linear programming; Zinc; Solver independence...</td>\n",
       "      <td>Zinc is a modeling language in which a concept...</td>\n",
       "    </tr>\n",
       "    <tr>\n",
       "      <th>6512</th>\n",
       "      <td>0</td>\n",
       "      <td>15</td>\n",
       "      <td>15</td>\n",
       "      <td>CS</td>\n",
       "      <td>Data structures</td>\n",
       "      <td>Z-Wave; Wireless; Embedded systems; Internet ...</td>\n",
       "      <td>Z-Wave is an implementation of home automation...</td>\n",
       "    </tr>\n",
       "    <tr>\n",
       "      <th>6513</th>\n",
       "      <td>0</td>\n",
       "      <td>10</td>\n",
       "      <td>10</td>\n",
       "      <td>CS</td>\n",
       "      <td>Distributed computing</td>\n",
       "      <td>High Performance Computing; Parallel Computin...</td>\n",
       "      <td>ZY-3 has been acquiring high quality imagery s...</td>\n",
       "    </tr>\n",
       "  </tbody>\n",
       "</table>\n",
       "<p>6514 rows × 7 columns</p>\n",
       "</div>"
      ],
      "text/plain": [
       "      Y1  Y2   Y Domain                      area  \\\n",
       "0      0  12  12    CS     Symbolic computation     \n",
       "1      0   0   0    CS          Computer vision     \n",
       "2      0   5   5    CS        Computer graphics     \n",
       "3      0   4   4    CS        Operating systems     \n",
       "4      0   1   1    CS         Machine learning     \n",
       "...   ..  ..  ..    ...                       ...   \n",
       "6509   0   3   3    CS             Cryptography     \n",
       "6510   0  15  15    CS          Data structures     \n",
       "6511   0  15  15    CS          Data structures     \n",
       "6512   0  15  15    CS          Data structures     \n",
       "6513   0  10  10    CS    Distributed computing     \n",
       "\n",
       "                                               keywords  \\\n",
       "0      (2+1)-dimensional non-linear optical waves; e...   \n",
       "1      Tea category identification; computer vision;...   \n",
       "2        3D images; Virtual reality; Smoothness           \n",
       "3      biodiversity surveys; camera trapping; data m...   \n",
       "4      distribution; endangered species; groundwater...   \n",
       "...                                                 ...   \n",
       "6509   Zero-difference balanced (ZDB) function; gene...   \n",
       "6510   Data structures for logic synthesis; error re...   \n",
       "6511   Linear programming; Zinc; Solver independence...   \n",
       "6512   Z-Wave; Wireless; Embedded systems; Internet ...   \n",
       "6513   High Performance Computing; Parallel Computin...   \n",
       "\n",
       "                                               Abstract  \n",
       "0     (2 + 1)-dimensional non-linear optical waves t...  \n",
       "1     (Objective) In order to increase classificatio...  \n",
       "2     [Purpose] This study verified that the smoothn...  \n",
       "3     1. Camera trapping is a widely applied method ...  \n",
       "4     1. Species distribution modelling can be usefu...  \n",
       "...                                                 ...  \n",
       "6509  Zero-difference balanced (ZDB) functions have ...  \n",
       "6510  Zero-Suppressed Binary Decision Diagrams (ZDDs...  \n",
       "6511  Zinc is a modeling language in which a concept...  \n",
       "6512  Z-Wave is an implementation of home automation...  \n",
       "6513  ZY-3 has been acquiring high quality imagery s...  \n",
       "\n",
       "[6514 rows x 7 columns]"
      ]
     },
     "execution_count": 6,
     "metadata": {},
     "output_type": "execute_result"
    }
   ],
   "source": [
    "data = pd.read_excel(\"Data_CS.xlsx\")\n",
    "CopyData = data.copy()\n",
    "CopyData"
   ]
  },
  {
   "cell_type": "code",
   "execution_count": 7,
   "id": "c8cb2d9b",
   "metadata": {},
   "outputs": [
    {
     "name": "stdout",
     "output_type": "stream",
     "text": [
      "<class 'pandas.core.frame.DataFrame'>\n",
      "RangeIndex: 6514 entries, 0 to 6513\n",
      "Data columns (total 7 columns):\n",
      " #   Column    Non-Null Count  Dtype \n",
      "---  ------    --------------  ----- \n",
      " 0   Y1        6514 non-null   int64 \n",
      " 1   Y2        6514 non-null   int64 \n",
      " 2   Y         6514 non-null   int64 \n",
      " 3   Domain    6514 non-null   object\n",
      " 4   area      6514 non-null   object\n",
      " 5   keywords  6514 non-null   object\n",
      " 6   Abstract  6514 non-null   object\n",
      "dtypes: int64(3), object(4)\n",
      "memory usage: 356.4+ KB\n"
     ]
    }
   ],
   "source": [
    "CopyData.info()"
   ]
  },
  {
   "cell_type": "code",
   "execution_count": 11,
   "id": "dafe6b1c",
   "metadata": {},
   "outputs": [],
   "source": [
    "df = CopyData.drop('Y1', axis = 1)"
   ]
  },
  {
   "cell_type": "code",
   "execution_count": 15,
   "id": "dd82b71c",
   "metadata": {},
   "outputs": [],
   "source": [
    "df = df.drop('Y1', axis = 1)"
   ]
  },
  {
   "cell_type": "code",
   "execution_count": 16,
   "id": "63fbefde",
   "metadata": {},
   "outputs": [
    {
     "data": {
      "text/html": [
       "<div>\n",
       "<style scoped>\n",
       "    .dataframe tbody tr th:only-of-type {\n",
       "        vertical-align: middle;\n",
       "    }\n",
       "\n",
       "    .dataframe tbody tr th {\n",
       "        vertical-align: top;\n",
       "    }\n",
       "\n",
       "    .dataframe thead th {\n",
       "        text-align: right;\n",
       "    }\n",
       "</style>\n",
       "<table border=\"1\" class=\"dataframe\">\n",
       "  <thead>\n",
       "    <tr style=\"text-align: right;\">\n",
       "      <th></th>\n",
       "      <th>Y</th>\n",
       "      <th>Domain</th>\n",
       "      <th>area</th>\n",
       "      <th>keywords</th>\n",
       "      <th>Abstract</th>\n",
       "    </tr>\n",
       "  </thead>\n",
       "  <tbody>\n",
       "    <tr>\n",
       "      <th>0</th>\n",
       "      <td>12</td>\n",
       "      <td>CS</td>\n",
       "      <td>Symbolic computation</td>\n",
       "      <td>(2+1)-dimensional non-linear optical waves; e...</td>\n",
       "      <td>(2 + 1)-dimensional non-linear optical waves t...</td>\n",
       "    </tr>\n",
       "    <tr>\n",
       "      <th>1</th>\n",
       "      <td>0</td>\n",
       "      <td>CS</td>\n",
       "      <td>Computer vision</td>\n",
       "      <td>Tea category identification; computer vision;...</td>\n",
       "      <td>(Objective) In order to increase classificatio...</td>\n",
       "    </tr>\n",
       "    <tr>\n",
       "      <th>2</th>\n",
       "      <td>5</td>\n",
       "      <td>CS</td>\n",
       "      <td>Computer graphics</td>\n",
       "      <td>3D images; Virtual reality; Smoothness</td>\n",
       "      <td>[Purpose] This study verified that the smoothn...</td>\n",
       "    </tr>\n",
       "    <tr>\n",
       "      <th>3</th>\n",
       "      <td>4</td>\n",
       "      <td>CS</td>\n",
       "      <td>Operating systems</td>\n",
       "      <td>biodiversity surveys; camera trapping; data m...</td>\n",
       "      <td>1. Camera trapping is a widely applied method ...</td>\n",
       "    </tr>\n",
       "    <tr>\n",
       "      <th>4</th>\n",
       "      <td>1</td>\n",
       "      <td>CS</td>\n",
       "      <td>Machine learning</td>\n",
       "      <td>distribution; endangered species; groundwater...</td>\n",
       "      <td>1. Species distribution modelling can be usefu...</td>\n",
       "    </tr>\n",
       "    <tr>\n",
       "      <th>...</th>\n",
       "      <td>...</td>\n",
       "      <td>...</td>\n",
       "      <td>...</td>\n",
       "      <td>...</td>\n",
       "      <td>...</td>\n",
       "    </tr>\n",
       "    <tr>\n",
       "      <th>6509</th>\n",
       "      <td>3</td>\n",
       "      <td>CS</td>\n",
       "      <td>Cryptography</td>\n",
       "      <td>Zero-difference balanced (ZDB) function; gene...</td>\n",
       "      <td>Zero-difference balanced (ZDB) functions have ...</td>\n",
       "    </tr>\n",
       "    <tr>\n",
       "      <th>6510</th>\n",
       "      <td>15</td>\n",
       "      <td>CS</td>\n",
       "      <td>Data structures</td>\n",
       "      <td>Data structures for logic synthesis; error re...</td>\n",
       "      <td>Zero-Suppressed Binary Decision Diagrams (ZDDs...</td>\n",
       "    </tr>\n",
       "    <tr>\n",
       "      <th>6511</th>\n",
       "      <td>15</td>\n",
       "      <td>CS</td>\n",
       "      <td>Data structures</td>\n",
       "      <td>Linear programming; Zinc; Solver independence...</td>\n",
       "      <td>Zinc is a modeling language in which a concept...</td>\n",
       "    </tr>\n",
       "    <tr>\n",
       "      <th>6512</th>\n",
       "      <td>15</td>\n",
       "      <td>CS</td>\n",
       "      <td>Data structures</td>\n",
       "      <td>Z-Wave; Wireless; Embedded systems; Internet ...</td>\n",
       "      <td>Z-Wave is an implementation of home automation...</td>\n",
       "    </tr>\n",
       "    <tr>\n",
       "      <th>6513</th>\n",
       "      <td>10</td>\n",
       "      <td>CS</td>\n",
       "      <td>Distributed computing</td>\n",
       "      <td>High Performance Computing; Parallel Computin...</td>\n",
       "      <td>ZY-3 has been acquiring high quality imagery s...</td>\n",
       "    </tr>\n",
       "  </tbody>\n",
       "</table>\n",
       "<p>6514 rows × 5 columns</p>\n",
       "</div>"
      ],
      "text/plain": [
       "       Y Domain                      area  \\\n",
       "0     12    CS     Symbolic computation     \n",
       "1      0    CS          Computer vision     \n",
       "2      5    CS        Computer graphics     \n",
       "3      4    CS        Operating systems     \n",
       "4      1    CS         Machine learning     \n",
       "...   ..    ...                       ...   \n",
       "6509   3    CS             Cryptography     \n",
       "6510  15    CS          Data structures     \n",
       "6511  15    CS          Data structures     \n",
       "6512  15    CS          Data structures     \n",
       "6513  10    CS    Distributed computing     \n",
       "\n",
       "                                               keywords  \\\n",
       "0      (2+1)-dimensional non-linear optical waves; e...   \n",
       "1      Tea category identification; computer vision;...   \n",
       "2        3D images; Virtual reality; Smoothness           \n",
       "3      biodiversity surveys; camera trapping; data m...   \n",
       "4      distribution; endangered species; groundwater...   \n",
       "...                                                 ...   \n",
       "6509   Zero-difference balanced (ZDB) function; gene...   \n",
       "6510   Data structures for logic synthesis; error re...   \n",
       "6511   Linear programming; Zinc; Solver independence...   \n",
       "6512   Z-Wave; Wireless; Embedded systems; Internet ...   \n",
       "6513   High Performance Computing; Parallel Computin...   \n",
       "\n",
       "                                               Abstract  \n",
       "0     (2 + 1)-dimensional non-linear optical waves t...  \n",
       "1     (Objective) In order to increase classificatio...  \n",
       "2     [Purpose] This study verified that the smoothn...  \n",
       "3     1. Camera trapping is a widely applied method ...  \n",
       "4     1. Species distribution modelling can be usefu...  \n",
       "...                                                 ...  \n",
       "6509  Zero-difference balanced (ZDB) functions have ...  \n",
       "6510  Zero-Suppressed Binary Decision Diagrams (ZDDs...  \n",
       "6511  Zinc is a modeling language in which a concept...  \n",
       "6512  Z-Wave is an implementation of home automation...  \n",
       "6513  ZY-3 has been acquiring high quality imagery s...  \n",
       "\n",
       "[6514 rows x 5 columns]"
      ]
     },
     "execution_count": 16,
     "metadata": {},
     "output_type": "execute_result"
    }
   ],
   "source": [
    "df"
   ]
  },
  {
   "cell_type": "code",
   "execution_count": 25,
   "id": "215dc8d9",
   "metadata": {},
   "outputs": [
    {
     "data": {
      "image/png": "[encoded data removed]",
      "text/plain": [
       "<Figure size 640x480 with 1 Axes>"
      ]
     },
     "metadata": {},
     "output_type": "display_data"
    }
   ],
   "source": [
    "DF = pd.DataFrame(df)\n",
    "\n",
    "article_par_domaine = df['area'].value_counts()\n",
    "\n",
    "plt.bar(article_par_domaine.index, article_par_domaine)\n",
    "\n",
    "plt.title('Nombre d\\'articles par domaine')\n",
    "plt.xlabel('Domaine')\n",
    "plt.ylabel('Nombre d\\'articles')\n",
    "\n",
    "plt.xticks(rotation=45, ha='right')\n",
    "\n",
    "plt.show()"
   ]
  },
  {
   "cell_type": "code",
   "execution_count": 26,
   "id": "57925a84",
   "metadata": {},
   "outputs": [
    {
     "name": "stdout",
     "output_type": "stream",
     "text": [
      "<class 'pandas.core.frame.DataFrame'>\n",
      "RangeIndex: 6514 entries, 0 to 6513\n",
      "Data columns (total 5 columns):\n",
      " #   Column    Non-Null Count  Dtype \n",
      "---  ------    --------------  ----- \n",
      " 0   Y         6514 non-null   int64 \n",
      " 1   Domain    6514 non-null   object\n",
      " 2   area      6514 non-null   object\n",
      " 3   keywords  6514 non-null   object\n",
      " 4   Abstract  6514 non-null   object\n",
      "dtypes: int64(1), object(4)\n",
      "memory usage: 254.6+ KB\n"
     ]
    }
   ],
   "source": [
    "df.info()"
   ]
  },
  {
   "cell_type": "code",
   "execution_count": 29,
   "id": "9e4ee235",
   "metadata": {},
   "outputs": [
    {
     "data": {
      "text/plain": [
       "<BarContainer object of 3 artists>"
      ]
     },
     "execution_count": 29,
     "metadata": {},
     "output_type": "execute_result"
    },
    {
     "data": {
      "image/png": "[encoded data removed]",
      "text/plain": [
       "<Figure size 1000x500 with 1 Axes>"
      ]
     },
     "metadata": {},
     "output_type": "display_data"
    }
   ],
   "source": [
    "plt.figure(figsize=(10,5))\n",
    "dic=defaultdict(int)\n",
    "special = string.punctuation\n",
    "for i in range(6514):\n",
    "    corpus=df[\"keywords\"][i].split()\n",
    "    for word in corpus:\n",
    "        if word in special:\n",
    "            dic[word] += 1\n",
    "x,y=zip(*dic.items())\n",
    "plt.bar(x,y,color='green')"
   ]
  },
  {
   "cell_type": "code",
   "execution_count": 32,
   "id": "e15be062",
   "metadata": {},
   "outputs": [
    {
     "data": {
      "image/png": "[encoded data removed]",
      "text/plain": [
       "<Figure size 1000x500 with 2 Axes>"
      ]
     },
     "metadata": {},
     "output_type": "display_data"
    }
   ],
   "source": [
    "#nombre de mots dans 'Abstract' et 'keyword'\n",
    "fig,(ax1, ax2) = plt.subplots(1,2, figsize=(10,5))\n",
    "word_len = df[\"Abstract\"].str.split().map(lambda x: len(x))\n",
    "ax1.hist(word_len, color = 'red')\n",
    "ax1.set_title('Abstract')\n",
    "\n",
    "word_len = df[\"keywords\"].str.split().map(lambda x: len(x))\n",
    "ax2.hist(word_len, color = 'green')\n",
    "ax2.set_title('Keywords')\n",
    "\n",
    "plt.show()"
   ]
  },
  {
   "cell_type": "code",
   "execution_count": 35,
   "id": "28247079",
   "metadata": {},
   "outputs": [],
   "source": [
    "#conversion de tout les caractères en minuscules\n",
    "df['Cleaned_keywords'] = df['keywords'].str.lower()\n",
    "df['Cleaned_abstract'] = df['Abstract'].str.lower()"
   ]
  },
  {
   "cell_type": "code",
   "execution_count": 36,
   "id": "03fe70f8",
   "metadata": {},
   "outputs": [],
   "source": [
    "#Eliminer les urls\n",
    "df['keywords'] = df['Cleaned_keywords'].replace(r'http\\S+', '', regex=True).replace(r'www\\S+', '', regex=True)\n",
    "df['abstract'] = df['Cleaned_abstract'].replace(r'http\\S+', '', regex=True).replace(r'www\\S+', '', regex=True)"
   ]
  },
  {
   "cell_type": "code",
   "execution_count": 39,
   "id": "3cbd094d",
   "metadata": {},
   "outputs": [],
   "source": [
    "#Eliminer les ponctuation\n",
    "def remove_punctuation_numbers(data):\n",
    "    data_pun = data.translate(str.maketrans(string.punctuation,' '*len(string.punctuation))).replace(' '*4,' ').replace(' '*3,' ').replace(' '*2,' ')\n",
    "    new_data = data_pun.translate(str.maketrans(string.digits,' '*len(string.digits))).replace(' '*4,' ').replace(' '*3,' ').replace(' '*2,' ')\n",
    "    return new_data\n",
    "\n",
    "for i in range(6514):\n",
    "    df[\"Cleaned_abstract\"][i]=remove_punctuation_numbers(df[\"Cleaned_abstract\"][i])\n",
    "    df[\"Cleaned_keywords\"][i]=remove_punctuation_numbers(df[\"Cleaned_keywords\"][i])"
   ]
  },
  {
   "cell_type": "code",
   "execution_count": 42,
   "id": "c3856147",
   "metadata": {},
   "outputs": [
    {
     "name": "stderr",
     "output_type": "stream",
     "text": [
      "[nltk_data] Downloading package punkt to\n",
      "[nltk_data]     C:\\Users\\kaout\\AppData\\Roaming\\nltk_data...\n",
      "[nltk_data]   Unzipping tokenizers\\punkt.zip.\n"
     ]
    },
    {
     "data": {
      "text/plain": [
       "True"
      ]
     },
     "execution_count": 42,
     "metadata": {},
     "output_type": "execute_result"
    }
   ],
   "source": [
    "import nltk\n",
    "nltk.download('punkt')"
   ]
  },
  {
   "cell_type": "code",
   "execution_count": 43,
   "id": "b7b7d336",
   "metadata": {},
   "outputs": [],
   "source": [
    "#import NLTK \n",
    "#La fonction\"word_tokenize\" est disponible dans la bibliothèque NLTK\n",
    "for i in range(6514):\n",
    "    df[\"Cleaned_abstract\"][i]=word_tokenize(df[\"Cleaned_abstract\"][i])\n",
    "    df[\"Cleaned_keywords\"][i]=word_tokenize(df[\"Cleaned_keywords\"][i])"
   ]
  },
  {
   "cell_type": "code",
   "execution_count": 45,
   "id": "5b66cf3b",
   "metadata": {},
   "outputs": [
    {
     "name": "stderr",
     "output_type": "stream",
     "text": [
      "[nltk_data] Downloading package wordnet to\n",
      "[nltk_data]     C:\\Users\\kaout\\AppData\\Roaming\\nltk_data...\n"
     ]
    },
    {
     "data": {
      "text/plain": [
       "True"
      ]
     },
     "execution_count": 45,
     "metadata": {},
     "output_type": "execute_result"
    }
   ],
   "source": [
    "nltk.download('wordnet')"
   ]
  },
  {
   "cell_type": "code",
   "execution_count": 47,
   "id": "d4702213",
   "metadata": {},
   "outputs": [
    {
     "name": "stderr",
     "output_type": "stream",
     "text": [
      "[nltk_data] Downloading package omw-1.4 to\n",
      "[nltk_data]     C:\\Users\\kaout\\AppData\\Roaming\\nltk_data...\n"
     ]
    },
    {
     "data": {
      "text/plain": [
       "True"
      ]
     },
     "execution_count": 47,
     "metadata": {},
     "output_type": "execute_result"
    }
   ],
   "source": [
    "nltk.download('omw-1.4')\n"
   ]
  },
  {
   "cell_type": "code",
   "execution_count": 48,
   "id": "a721f0cd",
   "metadata": {},
   "outputs": [
    {
     "name": "stderr",
     "output_type": "stream",
     "text": [
      "100%|██████████| 6514/6514 [00:09<00:00, 698.01it/s] \n"
     ]
    }
   ],
   "source": [
    "#Lemmantisation 'abstract'\n",
    "\n",
    "lemmatizer = WordNetLemmatizer()\n",
    "for i in tqdm(range(6514)):\n",
    "    df[\"Cleaned_abstract\"][i] =[lemmatizer.lemmatize(word,pos='v') for word in df[\"Cleaned_abstract\"][i]]"
   ]
  },
  {
   "cell_type": "code",
   "execution_count": 49,
   "id": "5afdbd4e",
   "metadata": {},
   "outputs": [
    {
     "name": "stderr",
     "output_type": "stream",
     "text": [
      "100%|██████████| 6514/6514 [00:02<00:00, 2371.92it/s]\n"
     ]
    }
   ],
   "source": [
    "#Lemmantisation 'keywords'\n",
    "\n",
    "lemmatizer = WordNetLemmatizer()\n",
    "for i in tqdm(range(6514)):\n",
    "    df[\"Cleaned_keywords\"][i] =[lemmatizer.lemmatize(word,pos='v') for word in df[\"Cleaned_keywords\"][i]]"
   ]
  },
  {
   "cell_type": "code",
   "execution_count": 52,
   "id": "bfeea250",
   "metadata": {},
   "outputs": [
    {
     "name": "stderr",
     "output_type": "stream",
     "text": [
      "[nltk_data] Downloading package stopwords to\n",
      "[nltk_data]     C:\\Users\\kaout\\AppData\\Roaming\\nltk_data...\n",
      "[nltk_data]   Unzipping corpora\\stopwords.zip.\n"
     ]
    },
    {
     "data": {
      "text/plain": [
       "True"
      ]
     },
     "execution_count": 52,
     "metadata": {},
     "output_type": "execute_result"
    }
   ],
   "source": [
    "nltk.download('stopwords')"
   ]
  },
  {
   "cell_type": "code",
   "execution_count": 58,
   "id": "08fb4663",
   "metadata": {},
   "outputs": [
    {
     "name": "stderr",
     "output_type": "stream",
     "text": [
      "100%|██████████| 6514/6514 [00:04<00:00, 1472.03it/s]\n"
     ]
    }
   ],
   "source": [
    "from tqdm import tqdm\n",
    "from nltk.corpus import stopwords\n",
    "\n",
    "# Charger les stopwords une fois à l'extérieur de la boucle\n",
    "stop_words = set(stopwords.words(\"english\"))  # Remplacez \"your_language\" par la langue appropriée, par exemple, \"english\"\n",
    "\n",
    "# Éliminer les mots vides\n",
    "for i in tqdm(range(6514)):\n",
    "    df[\"Cleaned_abstract\"][i] = [word for word in df[\"Cleaned_abstract\"][i] if word not in stop_words]\n",
    "    df[\"Cleaned_keywords\"][i] = [word for word in df[\"Cleaned_keywords\"][i] if word not in stop_words]\n"
   ]
  },
  {
   "cell_type": "code",
   "execution_count": 59,
   "id": "fd17cb9f",
   "metadata": {},
   "outputs": [],
   "source": [
    "df.to_excel(\"Data_Hackathon.xlsx\")"
   ]
  },
  {
   "cell_type": "code",
   "execution_count": 60,
   "id": "11b9882d",
   "metadata": {},
   "outputs": [],
   "source": [
    "data_hackathon = df.copy()"
   ]
  },
  {
   "cell_type": "code",
   "execution_count": 63,
   "id": "e6baf3bd",
   "metadata": {
    "scrolled": true
   },
   "outputs": [
    {
     "data": {
      "image/png": "[encoded data removed]",
      "text/plain": [
       "<Figure size 1000x500 with 2 Axes>"
      ]
     },
     "metadata": {},
     "output_type": "display_data"
    }
   ],
   "source": [
    "import matplotlib.pyplot as plt\n",
    "\n",
    "# Assurez-vous que les colonnes sont de type liste\n",
    "df[\"Cleaned_abstract\"] = df[\"Cleaned_abstract\"].apply(lambda x: x if isinstance(x, list) else [])\n",
    "df[\"Cleaned_keywords\"] = df[\"Cleaned_keywords\"].apply(lambda x: x if isinstance(x, list) else [])\n",
    "\n",
    "# Nombre de mots dans 'Abstract' et 'Keywords'\n",
    "fig, (ax1, ax2) = plt.subplots(1, 2, figsize=(10, 5))\n",
    "\n",
    "word_len_abstract = df[\"Cleaned_abstract\"].apply(len)\n",
    "ax1.hist(word_len_abstract, color='red')\n",
    "ax1.set_title('Abstract')\n",
    "\n",
    "word_len_keywords = df[\"Cleaned_keywords\"].apply(len)\n",
    "ax2.hist(word_len_keywords, color='green')\n",
    "ax2.set_title('Keywords')\n",
    "\n",
    "plt.show()\n"
   ]
  },
  {
   "cell_type": "code",
   "execution_count": null,
   "id": "0a62b68c",
   "metadata": {},
   "outputs": [],
   "source": []
  }
 ],
 "metadata": {
  "kernelspec": {
   "display_name": "Python 3 (ipykernel)",
   "language": "python",
   "name": "python3"
  },
  "language_info": {
   "codemirror_mode": {
    "name": "ipython",
    "version": 3
   },
   "file_extension": ".py",
   "mimetype": "text/x-python",
   "name": "python",
   "nbconvert_exporter": "python",
   "pygments_lexer": "ipython3",
   "version": "3.9.13"
  }
 },
 "nbformat": 4,
 "nbformat_minor": 5
}

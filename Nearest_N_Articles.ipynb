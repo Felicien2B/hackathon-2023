{
 "cells": [
  {
   "cell_type": "code",
   "execution_count": 5,
   "id": "fd27f9b1",
   "metadata": {},
   "outputs": [
    {
     "name": "stdout",
     "output_type": "stream",
     "text": [
      "                                    keywords_embeddings  distances\n",
      "1     [ 0.06683388 -0.64726573 -0.23238525 -0.375128...   0.000000\n",
      "1596  [ 3.62649441e-01 -2.81309783e-01 -1.76237207e-...   0.213946\n",
      "3422  [ 1.95050582e-01 -5.00776410e-01 -2.86008298e-...   0.216851\n",
      "4805  [ 0.16570216 -0.5172982   0.02637612 -0.304081...   0.218803\n",
      "1841  [ 1.36353686e-01 -3.56721491e-01 -2.85716027e-...   0.221172\n",
      "4200  [ 5.86391687e-01 -6.62596881e-01 -1.38055876e-...   0.226704\n"
     ]
    }
   ],
   "source": [
    "import numpy as np\n",
    "from scipy.spatial.distance import cosine\n",
    "import pandas as pd\n",
    "\n",
    "def NearestNArticles(path, idArticle, n):\n",
    "    df = pd.read_excel(path)\n",
    "    z=idArticle\n",
    "    embeddings = df['keywords_embeddings']\n",
    "    df[\"new_embeddings\"] = df[\"keywords_embeddings\"].apply(lambda x: x.replace(\"[\", \"\").replace(\"]\", \"\").replace(\"\\n\", \"\").split())\n",
    "    df[\"new_embeddings\"] = df[\"new_embeddings\"].apply(lambda x: [float(i) for i in x])\n",
    "    query_embedding = [float(i) for i in embeddings[z].replace(\"[\", \"\").replace(\"]\", \"\").split()]\n",
    "    df[\"distances\"] = df[\"new_embeddings\"].apply(lambda x: cosine(query_embedding, x))\n",
    "    smallest_distances = df.nsmallest(n+1, 'distances')[[ \"keywords_embeddings\", \"distances\"]]\n",
    "    print(smallest_distances)\n",
    "    \n",
    "NearestNArticles(\"Hackathon2023_CleanDataEmbedding.xlsx\", 1, 5)"
   ]
  },
  {
   "cell_type": "code",
   "execution_count": null,
   "id": "1d450079",
   "metadata": {},
   "outputs": [],
   "source": []
  }
 ],
 "metadata": {
  "kernelspec": {
   "display_name": "Python 3 (ipykernel)",
   "language": "python",
   "name": "python3"
  },
  "language_info": {
   "codemirror_mode": {
    "name": "ipython",
    "version": 3
   },
   "file_extension": ".py",
   "mimetype": "text/x-python",
   "name": "python",
   "nbconvert_exporter": "python",
   "pygments_lexer": "ipython3",
   "version": "3.9.13"
  }
 },
 "nbformat": 4,
 "nbformat_minor": 5
}
